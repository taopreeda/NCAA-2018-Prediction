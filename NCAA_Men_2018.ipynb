{
  "cells": [
    {
      "metadata": {
        "_uuid": "8f2839f25d086af736a60e9eeb907d3b93b6e0e5",
        "scrolled": false,
        "_cell_guid": "b1076dfc-b9ad-4769-8c92-a6c4dae69d19",
        "trusted": false,
        "collapsed": true
      },
      "cell_type": "code",
      "source": "# This Python 3 environment comes with many helpful analytics libraries installed\n# It is defined by the kaggle/python docker image: https://github.com/kaggle/docker-python\n# For example, here's several helpful packages to load in \n\nimport numpy as np # linear algebra\nimport pandas as pd # data processing, CSV file I/O (e.g. pd.read_csv)\nimport matplotlib.pyplot as plt\nimport seaborn as sns # data visualization library  \nfrom functools import reduce\n# Input data files are available in the \"../input/\" directory.\n# For example, running this (by clicking run or pressing Shift+Enter) will list the files in the input directory\n\nimport os\nprint(os.listdir(\"../input\"))\n\n# Any results you write to the current directory are saved as output.",
      "execution_count": null,
      "outputs": []
    },
    {
      "metadata": {
        "_uuid": "d629ff2d2480ee46fbb7e2d37f6b5fab8052498a",
        "collapsed": true,
        "_cell_guid": "79c7e3d0-c299-4dcb-8224-4455121ee9b0",
        "trusted": false
      },
      "cell_type": "code",
      "source": "NCAATourneySeeds = pd.read_csv('../input/NCAATourneySeeds.csv')\nNCAATourneyDetailedResults = pd.read_csv('../input/NCAATourneyDetailedResults.csv')\nRegularSeasonCompactResults = pd.read_csv('../input/RegularSeasonCompactResults.csv')\nRegularSeasonDetailedResults = pd.read_csv('../input/RegularSeasonDetailedResults.csv')\nTeams = pd.read_csv('../input/Teams.csv')\nSeasons = pd.read_csv('../input/Seasons.csv')\nMasseyOrdinals = pd.read_csv('../input/MasseyOrdinals.csv')\nSampleSubmissionStage1 = pd.read_csv('../input/SampleSubmissionStage1.csv')\nordinal = pd.read_csv('../input/MasseyOrdinals.csv')\nordinal_rank = pd.DataFrame({'Avgrank' : ordinal[ordinal['RankingDayNum'] == 133].groupby(['Season','TeamID'])['OrdinalRank'].mean()}).reset_index()",
      "execution_count": null,
      "outputs": []
    },
    {
      "metadata": {
        "_uuid": "9c284ed22d72ebd773f9fc0e987a9c2cf08854ee",
        "scrolled": true,
        "collapsed": true,
        "_cell_guid": "11e0b596-f1b4-4eff-a79c-55ecd92ce018",
        "trusted": false
      },
      "cell_type": "code",
      "source": "def add_feature(inputdf):\n    outdf = inputdf.copy()\n    outdf['WFGpct'] = outdf['WFGM']/outdf['WFGA']\n    outdf['LFGpct'] = outdf['LFGM']/outdf['LFGA']\n    outdf['WFGpct3'] = outdf['WFGM3']/outdf['WFGA3']\n    outdf['LFGpct3'] = outdf['LFGM3']/outdf['LFGA3']\n    outdf['WDefRtg'] = 100 * outdf['LScore']/(outdf['LFGA'] + 0.475 * outdf['LFTA'] - outdf['LOR'] + outdf['LTO'])\n    outdf['LDefRtg'] = 100 * outdf['WScore']/(outdf['WFGA'] + 0.475 * outdf['WFTA'] - outdf['WOR'] + outdf['WTO'])\n#     outdf['WFTpct'] = outdf['WFTM']/outdf['WFTA']\n#     outdf[np.isinf(outdf['WFTpct']) == True] = None\n#     outdf['LFTpct'] = outdf['LFTM']/outdf['LFTA']\n#     outdf[np.isinf(outdf['LFTpct']) == True] = None\n    outdf['WAT'] = outdf['WAst']/outdf['WTO']\n    outdf['LAT'] = outdf['LAst']/outdf['LTO']\n    outdf[np.isinf(outdf['LAT']) == True] = None\n    outdf['Part1'] = outdf['WFGA'] + 0.4* outdf['WFTA'] - 1.07 * (outdf['WOR']/(outdf['WOR'] + outdf['LDR'])) * (outdf['WFGA'] - outdf['WFGM']) + outdf['WTO']\n    outdf['Part2'] = outdf['LFGA'] + 0.4* outdf['LFTA'] - 1.07 * (outdf['LOR']/(outdf['LOR'] + outdf['WDR'])) * (outdf['LFGA'] - outdf['LFGM']) + outdf['LTO']\n    outdf['WOffRtg'] = 100 * outdf['WScore'] / (0.5* (outdf['Part1'] + outdf['Part2']))\n    outdf = outdf.drop(['Part1','Part2'],axis=1)\n    outdf['Part1'] = outdf['LFGA'] + 0.4* outdf['LFTA'] - 1.07 * (outdf['LOR']/(outdf['LOR'] + outdf['WDR'])) * (outdf['LFGA'] - outdf['LFGM']) + outdf['LTO']\n    outdf['Part2'] = outdf['WFGA'] + 0.4* outdf['WFTA'] - 1.07 * (outdf['WOR']/(outdf['WOR'] + outdf['LDR'])) * (outdf['WFGA'] - outdf['WFGM']) + outdf['WTO']\n    outdf['LOffRtg'] = 100 * outdf['LScore'] / (0.5* (outdf['Part1'] + outdf['Part2']))\n    outdf = outdf.drop(['Part1','Part2'],axis=1)\n    outdf = outdf[np.isfinite(outdf['Season'])]\n    return outdf",
      "execution_count": null,
      "outputs": []
    },
    {
      "metadata": {
        "_uuid": "0548cbcafe7abd788398aba645bbfc6b57c59fef",
        "collapsed": true,
        "_cell_guid": "cca4a44c-5cf8-4f5f-b25d-0091d18deb78",
        "trusted": false
      },
      "cell_type": "code",
      "source": "def stat_table(inputdf, var):\n    df = inputdf\n    df['W'] = df['W' + var]\n    df['L'] = df['L' + var]\n\n    W = df.groupby(['Season','WTeamID'])['W'].agg(['sum','count'])\n    W = W.reset_index().rename(columns={'sum':'Wsum','count':'Wcount','WTeamID':'TeamID'})\n    L = df.groupby(['Season','LTeamID'])['L'].agg(['sum','count'])\n    L = L.reset_index().rename(columns={'sum':'Lsum','count':'Lcount','LTeamID':'TeamID'})\n    stat = pd.merge(W,L,left_on=['Season','TeamID'],right_on=['Season','TeamID'],how='inner')\n    stat['sum'] = stat['Wsum'] + stat['Lsum']\n    stat['count'] = stat['Wcount'] + stat['Lcount']\n    stat['Avg'+var] = stat['sum']/stat['count']\n    stat = stat[['Season','TeamID','Avg'+var]]\n    return stat\n\ndef add_diff(inputdf, statdf, var):\n    if (var != 'seed_int'):\n        df = inputdf.merge(statdf[['Season','TeamID','Avg'+var]],left_on=['Season','WTeamID'],right_on=['Season','TeamID'],how='left')\n        df2 = df.drop('TeamID',axis=1).rename(columns={'Avg'+var:'WAvg'+var})\n        df3 = df2.merge(statdf[['Season','TeamID','Avg'+var]],left_on=['Season','LTeamID'],right_on=['Season','TeamID'],how='left')\n        outputdf = df3.drop('TeamID',axis=1).rename(columns={'Avg'+var:'LAvg'+var})\n        outputdf['Diff'+var] = outputdf['WAvg'+var] - outputdf['LAvg'+var]\n        outputdf = outputdf.drop(['WAvg'+var,'LAvg'+var], axis = 1)\n    else:\n        df = inputdf.merge(statdf[['Season','TeamID',var]],left_on=['Season','WTeamID'],right_on=['Season','TeamID'],how='left')\n        df2 = df.drop('TeamID',axis=1).rename(columns={var:'W'+var})\n        df3 = df2.merge(statdf[['Season','TeamID',var]],left_on=['Season','LTeamID'],right_on=['Season','TeamID'],how='left')\n        outputdf = df3.drop('TeamID',axis=1).rename(columns={var:'L'+var})\n        outputdf['Diff'+var] = outputdf['W'+var] - outputdf['L'+var]\n        outputdf = outputdf.drop(['W'+var,'L'+var], axis = 1)\n    return outputdf",
      "execution_count": null,
      "outputs": []
    },
    {
      "metadata": {
        "_uuid": "b9b693cdcc64be598054fb7c8e57a34bd47d6881",
        "collapsed": true,
        "_cell_guid": "e177cf1e-056c-4067-a854-ec49ea4961d6",
        "trusted": false
      },
      "cell_type": "code",
      "source": "df = pd.concat([RegularSeasonDetailedResults, NCAATourneyDetailedResults])\nfinaldf = add_feature(inputdf = df)\nfinaldf['target'] = 1\nast = stat_table(finaldf, var = 'Ast')\nto = stat_table(finaldf, var = 'TO')\nfga = stat_table(finaldf, var = 'FGA')\nfga3 = stat_table(finaldf, var = 'FGA3')\nfgpct = stat_table(finaldf, var = 'FGpct')\nfgpct3 = stat_table(finaldf, var = 'FGpct3')\n# ftpct = stat_table(finaldf, var = 'FTpct')\nat = stat_table(finaldf, var = 'AT')\noffreb = stat_table(finaldf, var = 'OR')\ndefreb = stat_table(finaldf, var = 'DR')\noffrtg = stat_table(finaldf, var = 'OffRtg')\ndefrtg = stat_table(finaldf, var = 'DefRtg')\ndfs = [ast,to,fga,fga3,fgpct,fgpct3\n#        ,ftpct\n       ,at,offreb,defreb,offrtg,defrtg]\nstat_final = reduce(lambda left,right: pd.merge(left,right,on=['Season','TeamID']), dfs)\n\n# Manual add\n# stat_add1 = stat_final[(stat_final['Season'] == 2013) & (stat_final['TeamID'] == 1455)].copy()\n# stat_add2 = stat_final[(stat_final['Season'] == 2014) & (stat_final['TeamID'] == 1246)].copy()\n# stat_add1.loc[:,'Season'] = 2014\n# stat_add2.loc[:,'Season'] = 2015\n# frames = [stat_final, stat_add1, stat_add2]\n# stat_final = pd.concat(frames)",
      "execution_count": null,
      "outputs": []
    },
    {
      "metadata": {
        "_uuid": "027f6b6b7738125f5aed5f0bf8dcf34dc6b18a29",
        "collapsed": true,
        "_cell_guid": "9d3a8661-a72e-42eb-aa54-8e7b3ad03d45",
        "trusted": false
      },
      "cell_type": "code",
      "source": "def seed_to_int(seed):\n    #Get just the digits from the seeding. Return as int\n    s_int = int(seed[1:3])\n    return s_int\ndf_seeds = NCAATourneySeeds.copy()\ndf_seeds['seed_int'] = df_seeds.Seed.apply(seed_to_int)\ndf_seeds.drop(labels=['Seed'], inplace=True, axis=1) # This is the string label",
      "execution_count": null,
      "outputs": []
    },
    {
      "metadata": {
        "_uuid": "b478b88053e108a98bf9ae86ae28e52cd0687970",
        "collapsed": true,
        "_cell_guid": "6029bb3a-701d-4012-9765-d027eb56d343",
        "trusted": false
      },
      "cell_type": "code",
      "source": "stat_final = stat_final.merge(df_seeds, left_on=['Season','TeamID'], right_on=['Season','TeamID'], how='left')\nstat_final['seed_int'].fillna(0,inplace=True)\nstat_final = stat_final.merge(ordinal_rank, left_on=['Season','TeamID'], right_on=['Season','TeamID'], how='left')\nstat_final['Avgrank'].fillna(0,inplace=True)",
      "execution_count": null,
      "outputs": []
    },
    {
      "metadata": {
        "_uuid": "4d54a6bbb60b4d5169e36798e3487f97746ced72",
        "scrolled": true,
        "collapsed": true,
        "_cell_guid": "c81dce3f-74d4-4947-9986-dc64c4b378b1",
        "trusted": false
      },
      "cell_type": "code",
      "source": "finaldf = add_diff(finaldf, stat_final, 'Ast')\nfinaldf = add_diff(finaldf, stat_final, 'TO')\nfinaldf = add_diff(finaldf, stat_final, 'FGA')\nfinaldf = add_diff(finaldf, stat_final, 'FGA3')\nfinaldf = add_diff(finaldf, stat_final, 'FGpct')\nfinaldf = add_diff(finaldf, stat_final, 'FGpct3')\n# finaldf = add_diff(finaldf, stat_final, 'FTpct')\nfinaldf = add_diff(finaldf, stat_final, 'AT')\nfinaldf = add_diff(finaldf, stat_final, 'OR')\nfinaldf = add_diff(finaldf, stat_final, 'DR')\nfinaldf = add_diff(finaldf, stat_final, 'OffRtg')\nfinaldf = add_diff(finaldf, stat_final, 'DefRtg')\nfinaldf = add_diff(finaldf, stat_final, 'seed_int')\nfinaldf = add_diff(finaldf, stat_final, 'rank')\nfinaldf = finaldf.drop(['W','L'], axis = 1)",
      "execution_count": null,
      "outputs": []
    },
    {
      "metadata": {
        "_uuid": "90bc86d2050052ef6556f6460e44deac7ebee7e2",
        "collapsed": true,
        "_cell_guid": "6730a0ea-cd47-487e-8dc7-580953aaa2b0",
        "trusted": false
      },
      "cell_type": "code",
      "source": "finaldf = finaldf.dropna(how='any')",
      "execution_count": null,
      "outputs": []
    },
    {
      "metadata": {
        "_uuid": "0188d9e17fd933d331b9be1a6f407e4d369b5666",
        "scrolled": true,
        "collapsed": true,
        "_cell_guid": "56171025-617a-4588-af05-f8db2a55c90b",
        "trusted": false
      },
      "cell_type": "code",
      "source": "finaldf['weight'] = 1\nfinaldf.loc[finaldf[finaldf['DayNum'] >= 136].index,'weight'] = 100",
      "execution_count": null,
      "outputs": []
    },
    {
      "metadata": {
        "_uuid": "d0344090a57c73f6c5b444f3a01291b69574ba3a",
        "scrolled": true,
        "collapsed": true,
        "_cell_guid": "54337dd5-ee05-4e6c-bc5a-f4933bbff9b8",
        "trusted": false
      },
      "cell_type": "code",
      "source": "#train_data = finaldf[['target','DiffAst','DiffTO','DiffFGpct','DiffFGpct3','DiffFTpct','DiffAT','DiffOR','DiffDR','DiffOffRtg']]\ntrain_data = finaldf[['target','weight'\n                      ,'WLoc','Diffrank'\n#                       ,'Diffseed_int'\n                      ,'DiffAst','DiffTO'\n#                       ,'DiffFGpct'\n                      ,'DiffFGpct3'\n                      ,'DiffFGA','DiffFGA3'\n#                       ,'DiffFTpct'\n#                       ,'DiffAT'\n                      ,'DiffOffRtg','DiffDefRtg'\n                     ]]",
      "execution_count": null,
      "outputs": []
    },
    {
      "metadata": {
        "_uuid": "1162906f37245f7f358b052d2db6aa0be38c1139",
        "_cell_guid": "15164565-5e55-452c-9678-3a6d174a5c4a",
        "trusted": false,
        "collapsed": true
      },
      "cell_type": "code",
      "source": "#correlation map\nf,ax = plt.subplots(figsize=(14, 14))\nsns.heatmap(train_data.loc[:, train_data.columns != 'target'].corr(), annot=True, linewidths=.5, fmt= '.1f',ax=ax , cmap=\"YlGnBu\")",
      "execution_count": null,
      "outputs": []
    },
    {
      "metadata": {
        "_uuid": "0b4aa10259a7a9a78e80842904495ee5dee16188",
        "collapsed": true,
        "_cell_guid": "0197ca9a-a148-407c-9148-940512153ba5",
        "trusted": false
      },
      "cell_type": "code",
      "source": "train0= train_data.sample(frac=0.5,random_state=200)\ntrain1= train_data.drop(train0.index)\ntrain0_X = train0.loc[:, ~train0.columns.isin(['target','weight'])]\ntrain0_X_num = train0_X.loc[:, train0_X.columns != 'WLoc']\ntrain0_X_cat = train0_X.loc[:, train0_X.columns == 'WLoc']\ntrain0_w = train0.loc[:, train0.columns == 'weight']\ntrain0_y = train0.loc[:, train0.columns == 'target']",
      "execution_count": null,
      "outputs": []
    },
    {
      "metadata": {
        "_uuid": "cc96a55109ed222d946c922dc1c8a5505fefa30a",
        "_cell_guid": "83a44439-4a97-403f-a841-23ab615b384c",
        "trusted": false,
        "collapsed": true
      },
      "cell_type": "code",
      "source": "train0_X_num = train0_X_num * -1\ntrain0_X_cat.replace('A','X', inplace=True)\ntrain0_X_cat.replace('H','A', inplace=True)\ntrain0_X_cat.replace('X','H', inplace=True)\ntrain0_y['target'] = 0",
      "execution_count": null,
      "outputs": []
    },
    {
      "metadata": {
        "_uuid": "35eeca6c76b8c0e00fc0a200397ef300102ace5a",
        "collapsed": true,
        "_cell_guid": "32aba5ad-675c-415b-8bfb-41ba3872b561",
        "trusted": false
      },
      "cell_type": "code",
      "source": "train0_X = pd.concat([train0_X_cat, train0_X_num], axis = 1)\ntrain0 = pd.concat([train0_y, train0_w, train0_X], axis = 1)\ntrain_data = pd.concat([train0, train1], axis = 0)\n\ntrain_data = pd.get_dummies(train_data)\ntrain_data.rename(columns={'WLoc_A':'Loc_A','WLoc_H':'Loc_H','WLoc_N':'Loc_N'},inplace=True)\ntrain_data.drop(['Loc_N'], axis = 1, inplace= True)\n\n# from sklearn.preprocessing import OneHotEncoder\n# enc = OneHotEncoder()\n# enc.fit(train_data['WLoc'])\n# enc.transform(train_data)",
      "execution_count": null,
      "outputs": []
    },
    {
      "metadata": {
        "_uuid": "ba700ccfd3092bf98b43abe823793e8efe492cfa",
        "scrolled": true,
        "_cell_guid": "30efb4d4-9512-467c-85d9-55c7f5aa5641",
        "trusted": false,
        "collapsed": true
      },
      "cell_type": "code",
      "source": "def plot_hist(var):\n    df_graph = train_data[[var,'target']]\n    plt.hist(df_graph[df_graph[\"target\"]== 0][var].reset_index(drop=True), alpha=0.6, label=\"L\")\n    plt.hist(df_graph[df_graph[\"target\"]==1][var].reset_index(drop=True), alpha=0.6, label=\"W\")\n    plt.legend()\n    plt.show()\nplot_hist('DiffDefRtg')",
      "execution_count": null,
      "outputs": []
    },
    {
      "metadata": {
        "_uuid": "a68ca3372c0bad02384a2dc28e19819be2f2007f",
        "scrolled": true,
        "collapsed": true,
        "_cell_guid": "76e48f2e-890f-4c73-b23d-034dc35fa473",
        "trusted": false
      },
      "cell_type": "code",
      "source": "X = train_data.iloc[:, 2:]\nw = train_data.iloc[:, 1]\ny = train_data.iloc[:, 0]\n\n# X = train_data.iloc[:, 2:].values\n# w = train_data.iloc[:, 1].values\n# y = train_data.iloc[:, 0].values\n\n# ind = np.random.randint(2, size = X.shape[0]) == 1\n# X[ind] = X[ind] * -1\n# y[ind] = 0",
      "execution_count": null,
      "outputs": []
    },
    {
      "metadata": {
        "_uuid": "c36b9f48db7d39921a929a3573acf6d78aff31a8",
        "collapsed": true,
        "_cell_guid": "8dfb745b-2dbd-49f3-b3e6-621024ba0db8",
        "trusted": false
      },
      "cell_type": "code",
      "source": "from sklearn.model_selection import train_test_split\nX_train, X_test, y_train, y_test, w_train, w_test = train_test_split(X, y, w, test_size = 0.2, random_state = 0)\n\n# Feature Scaling\n# from sklearn.preprocessing import StandardScaler\n# sc = StandardScaler()\n# X_train = sc.fit_transform(X_train)\n# X_test = sc.transform(X_test)",
      "execution_count": null,
      "outputs": []
    },
    {
      "metadata": {
        "_uuid": "294371dce408683931ac9d467d68fb80e0da3e24",
        "scrolled": true,
        "_cell_guid": "afc22b9f-7b63-4ba2-bf14-1068fa9e8561",
        "trusted": false,
        "collapsed": true
      },
      "cell_type": "code",
      "source": "from sklearn.ensemble import RandomForestClassifier\nclf_rf = RandomForestClassifier()      \nclr_rf = clf_rf.fit(X_train,y_train)\nimportances = clr_rf.feature_importances_\nstd = np.std([tree.feature_importances_ for tree in clf_rf.estimators_],\n             axis=0)\nindices = np.argsort(importances)[::-1]\n\n# Print the feature ranking\nprint(\"Feature ranking:\")\n\nfor f in range(X_train.shape[1]):\n    print(\"%d. feature %d (%f)\" % (f + 1, indices[f], importances[indices[f]]))",
      "execution_count": null,
      "outputs": []
    },
    {
      "metadata": {
        "_uuid": "443aaaf2f34f8032dfe206b65c7d3018aff3f019",
        "_cell_guid": "f26086ec-cfc4-4826-930c-aee49dc600e4",
        "trusted": false,
        "collapsed": true
      },
      "cell_type": "code",
      "source": "# Plot the feature importances of the forest\n\nplt.figure(1, figsize=(10, 10))\nplt.title(\"Feature importances\")\nplt.bar(range(X_train.shape[1]), importances[indices],\n       color=\"g\", yerr=std[indices], align=\"center\")\nplt.xticks(range(X_train.shape[1]), X_train.columns[indices],rotation=90)\nplt.xlim([-1, X_train.shape[1]])\nplt.show()",
      "execution_count": null,
      "outputs": []
    },
    {
      "metadata": {
        "_uuid": "e6c0b456a1f1d13334b1af2b8a0c5bef398932da",
        "_cell_guid": "e2185c3d-412e-47ee-8a78-5115fdacb164",
        "trusted": false,
        "collapsed": true
      },
      "cell_type": "code",
      "source": "from sklearn.feature_selection import RFE\n\n# The \"accuracy\" scoring is proportional to the number of correct classifications\n# y = column_or_1d(y_train_pd,warn=True)\nclf_rf = RandomForestClassifier() \nrfe = RFE(estimator=clf_rf, n_features_to_select=5, step=1)\nrfe = rfe.fit(X_train, y_train)\n\nprint('Chosen best 5 feature by rfe:',X_train.columns[rfe.support_])\n\nfrom sklearn.feature_selection import RFECV\n\nclf_rf_4 = RandomForestClassifier() \nrfecv = RFECV(estimator=clf_rf_4, step=1, cv=5,scoring='accuracy')   #5-fold cross-validation\nrfecv = rfecv.fit(X_train, y_train)\n\nprint('Optimal number of features :', rfecv.n_features_)\nprint('Best features :', X_train.columns[rfecv.support_])",
      "execution_count": null,
      "outputs": []
    },
    {
      "metadata": {
        "_uuid": "a72fb5add6c62276de70bfde1307bc014c32f10d",
        "_cell_guid": "b74e5bdc-8f14-410d-ac1c-e711a56a347c",
        "trusted": false,
        "collapsed": true
      },
      "cell_type": "code",
      "source": "import matplotlib.pyplot as plt\nplt.figure()\nplt.xlabel(\"Number of features selected\")\nplt.ylabel(\"Cross validation score of number of selected features\")\nplt.plot(range(1, len(rfecv.grid_scores_) + 1), rfecv.grid_scores_)\nplt.show()",
      "execution_count": null,
      "outputs": []
    },
    {
      "metadata": {
        "_uuid": "47b0af81bc20c413eb3a8c144b3d8cf97b4e968c",
        "scrolled": false,
        "_cell_guid": "9c69ceab-6199-46d9-b240-243ca51e021c",
        "trusted": false,
        "collapsed": true
      },
      "cell_type": "code",
      "source": "# from sklearn.model_selection import GridSearchCV\n# from sklearn.linear_model import LogisticRegression\n# classifier = LogisticRegression(random_state = 0)\n# classifier.fit(X_train, y_train, sample_weight=w_train)\n\n# classifier = LogisticRegression()\n# params = {'C': np.logspace(start=-5, stop=3, num=9)}\n# classifier = GridSearchCV(classifier, params, scoring='neg_log_loss', refit=True)\n# classifier.fit(X_train, y_train, sample_weight=w_train)\n\n# Fitting Random Forest Classification to the Training set\n# from sklearn.ensemble import RandomForestClassifier\n# classifier = RandomForestClassifier(n_estimators = 100, criterion = 'entropy', random_state = 0)\n# classifier.fit(X_train, y_train, w_train)\n\n# from sklearn.svm import SVC\n# classifier = SVC(kernel = 'linear', random_state = 0)\n# classifier.fit(X_train, y_train)\n\n# from sklearn.svm import SVC\n# classifier = SVC(kernel = 'rbf', random_state = 0)\n# classifier.fit(X_train, y_train)\n\nfrom xgboost import XGBClassifier\nclassifier = XGBClassifier()\nclassifier.fit(X_train, y_train, sample_weight=w_train)\n\n# Applying k-Fold Cross Validation\nfrom sklearn.model_selection import cross_val_score\naccuracies = cross_val_score(estimator = classifier, X = X_train, y = y_train, cv = 10)\nprint('Mean : ' , accuracies.mean())\nprint('Std : ' , accuracies.std())\n\n\n# parameters = {'max_depth': [3,5,7], 'min_child_weight': [1,3,5]}\n# parameters = [{'C':[0.001,0.01,0.1,1]}]\n# grid_search = GridSearchCV(estimator = classifier,\n#                            param_grid = parameters,\n#                            scoring = 'accuracy',\n#                            cv = 10,\n#                            n_jobs = -1)\n# grid_search = grid_search.fit(X_train, y_train)\n# best_accuracy = grid_search.best_score_\n# best_parameters = grid_search.best_params_\n\n# print('best accuracy :', best_accuracy)\n# print('best parameters :', best_parameters)",
      "execution_count": null,
      "outputs": []
    },
    {
      "metadata": {
        "_uuid": "bcec84b581e59432734b111ee201b5b301e85846",
        "_cell_guid": "734bb53f-15a8-4afd-b7d5-70a6dbe87a0a",
        "trusted": false,
        "collapsed": true
      },
      "cell_type": "code",
      "source": "#Probability output for logistic regression\nprob_pred = classifier.predict_proba(X_test)[:,1]\ny_pred = classifier.predict(X_test)\n\n# Predicting the Test set results\n# y_pred = classifier.predict(X_test)\n\n# Making the Confusion Matrix\nfrom sklearn.metrics import confusion_matrix\ncm = confusion_matrix(y_test, y_pred)\nprint('cm : ', cm)\nprint('Accuracy : ', (cm[0][0]+cm[1][1])/cm.sum())",
      "execution_count": null,
      "outputs": []
    },
    {
      "metadata": {
        "_uuid": "85bc9e5adb71d3fd77c84bd8a967fe1511ccfe69",
        "collapsed": true,
        "_cell_guid": "d5366b71-0444-40f0-8ed5-8cb53cb03388",
        "trusted": false
      },
      "cell_type": "code",
      "source": "#train_data = finaldf[['target','DiffAst','DiffTO','DiffFGpct','DiffFGpct3','DiffFTpct','DiffAT','DiffOR','DiffDR','DiffOffRtg']]\nNCAA_data = finaldf[['target','DayNum'\n                      ,'WLoc','Diffrank'\n#                       ,'Diffseed_int'\n                      ,'DiffAst','DiffTO'\n#                       ,'DiffFGpct'\n                     ,'DiffFGpct3'\n                      ,'DiffFGA','DiffFGA3'\n#                       ,'DiffFTpct'\n#                      ,'DiffAT'\n                      ,'DiffOffRtg','DiffDefRtg'\n                     ]]\nNCAA_data = NCAA_data[NCAA_data['DayNum'] >= 136]\nNCAA_data.drop(['DayNum'], axis = 1, inplace=True)\nNCAA_data = pd.get_dummies(NCAA_data)\nNCAA_data.rename(columns={'WLoc_N':'Loc_N'},inplace=True)\nNCAA_data['Loc_A'] = 0\nNCAA_data['Loc_H'] = 0\nNCAA_data.drop(['Loc_N'], axis = 1 , inplace = True)\n\nX_NCAA = NCAA_data.iloc[:, 1:]\ny_NCAA = NCAA_data.iloc[:, 0]\n\n# X_NCAA = sc.transform(X_NCAA)",
      "execution_count": null,
      "outputs": []
    },
    {
      "metadata": {
        "_uuid": "fdf90d5490d116669bf79a1cc148173ebf953a6e",
        "_cell_guid": "39b855ba-fcea-40a2-a1eb-03e48f2168a5",
        "trusted": false,
        "collapsed": true
      },
      "cell_type": "code",
      "source": "y_pred_NCAA = classifier.predict(X_NCAA)\ncm = confusion_matrix(y_NCAA, y_pred_NCAA)\nprint(cm)\nprint('Accuracy : ', (cm[0][0]+cm[1][1])/cm.sum())",
      "execution_count": null,
      "outputs": []
    },
    {
      "metadata": {
        "_uuid": "67aa13f31200d4bbbfc854d7fe9eb176d4ae27b8",
        "_cell_guid": "f826d378-c9c6-47fb-a799-cef8b13a7f44",
        "trusted": false,
        "collapsed": true
      },
      "cell_type": "code",
      "source": "from sklearn.metrics import roc_auc_score\nfrom sklearn.metrics import roc_curve\nlogit_roc_auc = roc_auc_score(y_train, classifier.predict(X_train))\nfpr, tpr, thresholds = roc_curve(y_train, classifier.predict_proba(X_train)[:,1])\nplt.figure()\nplt.plot(fpr, tpr, label='Logistic Regression (area = %0.2f)' % logit_roc_auc)\nplt.plot([0, 1], [0, 1],'r--')\nplt.xlim([0.0, 1.0])\nplt.ylim([0.0, 1.05])\nplt.xlabel('False Positive Rate')\nplt.ylabel('True Positive Rate')\nplt.title('Receiver operating characteristic')\nplt.legend(loc=\"lower right\")\nplt.savefig('Log_ROC')\nplt.show()",
      "execution_count": null,
      "outputs": []
    },
    {
      "metadata": {
        "_uuid": "4eb02f67d2903a3e88af630d2b2e4340d9bea616",
        "scrolled": true,
        "_cell_guid": "8061505a-df16-4a03-a4af-5893f1fee233",
        "trusted": false,
        "collapsed": true
      },
      "cell_type": "code",
      "source": "y_pred_all = classifier.predict(X)\ncm = confusion_matrix(y, y_pred_all)\ncm",
      "execution_count": null,
      "outputs": []
    },
    {
      "metadata": {
        "_uuid": "01fd808cf1a8249268fa97c022edde03373731bd",
        "collapsed": true,
        "_cell_guid": "fcaffa9d-0806-49ad-8f4f-d6952c118a30",
        "trusted": false
      },
      "cell_type": "code",
      "source": "SampleSubmissionStage2 = pd.read_csv('../input/SampleSubmissionStage2.csv')\nMatchup = SampleSubmissionStage2.copy()\nMatchup[['Season', 'WTeamID', 'LTeamID']] = Matchup['ID'].str.split(\"_\", expand=True)\nMatchup.drop(['Pred'], axis = 1, inplace=True)\nMatchup['Season'] = Matchup['Season'].astype(int)\nMatchup['WTeamID'] = Matchup['WTeamID'].astype(int)\nMatchup['LTeamID'] = Matchup['LTeamID'].astype(int)",
      "execution_count": null,
      "outputs": []
    },
    {
      "metadata": {
        "_uuid": "b618a583501562e4632d2fdaffd131fa347ec57f",
        "collapsed": true,
        "_cell_guid": "2eae4100-65a1-4b0b-8905-64e05cb4a02a",
        "trusted": false
      },
      "cell_type": "code",
      "source": "# Matchup = NCAATourneyDetailedResults.loc[:,['Season','WTeamID','LTeamID']]\n# Matchup['actual'] = 1\nMatchup = add_diff(Matchup, stat_final, 'Ast')\nMatchup = add_diff(Matchup, stat_final, 'TO')\nMatchup = add_diff(Matchup, stat_final, 'FGA')\nMatchup = add_diff(Matchup, stat_final, 'FGA3')\nMatchup = add_diff(Matchup, stat_final, 'FGpct')\nMatchup = add_diff(Matchup, stat_final, 'FGpct3')\n# Matchup = add_diff(Matchup, stat_final, 'FTpct')\nMatchup = add_diff(Matchup, stat_final, 'AT')\nMatchup = add_diff(Matchup, stat_final, 'OR')\nMatchup = add_diff(Matchup, stat_final, 'DR')\nMatchup = add_diff(Matchup, stat_final, 'OffRtg')\nMatchup = add_diff(Matchup, stat_final, 'DefRtg')\nMatchup = add_diff(Matchup, stat_final, 'seed_int')\nMatchup = add_diff(Matchup, stat_final, 'rank')\nMatchup.rename(columns={'WTeamID':'TeamID1','LTeamID':'TeamID2'}, inplace=True)",
      "execution_count": null,
      "outputs": []
    },
    {
      "metadata": {
        "_uuid": "a47d139bf29b061cda34670060bb456782057a8e",
        "scrolled": true,
        "collapsed": true,
        "_cell_guid": "25aa7b5b-0e60-4f3e-8210-d477af382781",
        "trusted": false
      },
      "cell_type": "code",
      "source": "# NCAA Match Up\nMatchup_data = Matchup.loc[:,X_train.drop(['Loc_A','Loc_H'], axis = 1).columns]\n\nMatchup_data['Loc_A'] = 0\nMatchup_data['Loc_H'] = 0\n# Matchup_data['Loc_N'] = 1",
      "execution_count": null,
      "outputs": []
    },
    {
      "metadata": {
        "_uuid": "30d6e775c9f551d6d0219b60a67079b5958266b3",
        "scrolled": true,
        "collapsed": true,
        "_cell_guid": "bf552096-71f1-4f52-ac14-6d92af3e6f22",
        "trusted": false
      },
      "cell_type": "code",
      "source": "X_matchup = Matchup_data\n# X_matchup = sc.transform(X_matchup)",
      "execution_count": null,
      "outputs": []
    },
    {
      "metadata": {
        "_uuid": "79d371cad6e6c9b76a6123d7f9d5b9e17b5360b8",
        "_cell_guid": "18f5a695-5bbf-45d1-9528-d7fd7e7ab720",
        "trusted": false,
        "collapsed": true
      },
      "cell_type": "code",
      "source": "#Output Probability\nprob_pred_matchup = classifier.predict_proba(X_matchup)[:,1]\n# y_pred_matchup = (prob_pred_matchup >= 0.5).astype(int)\n\ny_pred_matchup = classifier.predict(X_matchup)",
      "execution_count": null,
      "outputs": []
    },
    {
      "metadata": {
        "_uuid": "2deb378588849d9171ca0a44e293576cd48eae45",
        "scrolled": false,
        "collapsed": true,
        "_cell_guid": "7b2cfc7d-33ab-4949-ae15-42746e8c9b30",
        "trusted": false
      },
      "cell_type": "code",
      "source": "# pred = pd.DataFrame(data=y_pred_matchup,columns=['pred'])\npred = pd.DataFrame(data=prob_pred_matchup,columns=['pred'])\n\nresult = pd.concat([Matchup,pred], axis=1)\nresult = result.rename(columns={'ID':'id'})",
      "execution_count": null,
      "outputs": []
    },
    {
      "metadata": {
        "_uuid": "65a2f3c1b6823ae41c37edb80f71249a2e6f7f53",
        "_cell_guid": "154b00bd-0392-44e7-89aa-d2e17827444f",
        "trusted": false,
        "collapsed": true
      },
      "cell_type": "code",
      "source": "result['pred'].hist()",
      "execution_count": null,
      "outputs": []
    },
    {
      "metadata": {
        "_uuid": "277f624644f25dd74bde9c22380b05bc1239423a",
        "collapsed": true,
        "_cell_guid": "bddcd14f-3e50-4535-8506-da772c19bf63",
        "trusted": false
      },
      "cell_type": "code",
      "source": "#Clip\nresult['pred'].clip(0.05,0.95, inplace = True)\n# result['pred2'] = result['pred'].clip(0.05,0.95)\n# result.drop(['pred'],axis = 1, inplace=True)\n# result.rename(columns={'pred2':'pred'}, inplace=True)",
      "execution_count": null,
      "outputs": []
    },
    {
      "metadata": {
        "_uuid": "62192559b881a827e8f13d6c2fae15b6f455739e",
        "collapsed": true,
        "_cell_guid": "ae76bc96-5160-4946-98ea-fbe49cae152d",
        "trusted": false
      },
      "cell_type": "code",
      "source": "submit = result[['id','pred']]\nsubmit.to_csv(\"NCAA_2018_v1.csv\", index=False)",
      "execution_count": null,
      "outputs": []
    },
    {
      "metadata": {
        "_uuid": "d98302003b219a5bf889bf75088e0d68ae5ad446",
        "collapsed": true,
        "_cell_guid": "b7bd0488-9552-4209-8c28-1f8faf2b640f",
        "trusted": false
      },
      "cell_type": "code",
      "source": "result_team = result[['TeamID1','TeamID2','pred']]",
      "execution_count": null,
      "outputs": []
    },
    {
      "metadata": {
        "_uuid": "34fedb24549b834c532f48d8160903db6fbaa135",
        "scrolled": true,
        "collapsed": true,
        "_cell_guid": "bfabed17-8c40-44b6-801f-d1278a759fc6",
        "trusted": false
      },
      "cell_type": "code",
      "source": "result_team1 = result_team.merge(Teams[['TeamID','TeamName']],left_on=['TeamID1'],right_on=['TeamID'],how='left')\nresult_team1.rename(columns={'TeamName':'Team1'}, inplace = True)\nresult_team2 = result_team1.merge(Teams[['TeamID','TeamName']],left_on=['TeamID2'],right_on=['TeamID'],how='left')\nresult_team2.rename(columns={'TeamName':'Team2'}, inplace = True)\nresult_team2.drop(['TeamID1','TeamID2','TeamID_x','TeamID_y'], axis = 1, inplace = True)",
      "execution_count": null,
      "outputs": []
    },
    {
      "metadata": {
        "_uuid": "912d4e9e3e55037df173b6dd199895426304a98c",
        "collapsed": true,
        "_cell_guid": "5a414e61-36c7-4f5f-8466-4ddc989841ea",
        "trusted": false
      },
      "cell_type": "code",
      "source": "result_team2.to_csv(\"NCAA_2018_v1_name.csv\", index=False)",
      "execution_count": null,
      "outputs": []
    },
    {
      "metadata": {
        "_uuid": "345774250459b4d07395701fae4fb2858b1b3af0",
        "scrolled": true,
        "_cell_guid": "7a289104-0de4-4466-b7f7-a306ac5cfa51",
        "trusted": false,
        "collapsed": true
      },
      "cell_type": "code",
      "source": "result_team2[(result_team2['Team1'] == 'Gonzaga') \n             & (result_team2['Team2'] == 'Villanova')]",
      "execution_count": null,
      "outputs": []
    },
    {
      "metadata": {
        "_uuid": "713f226753c1456c75ec082d9e0488e6c8a47006",
        "collapsed": true,
        "_cell_guid": "4ed341e5-ea5f-478f-a5e3-ceca622997c4",
        "trusted": false
      },
      "cell_type": "code",
      "source": "#Output Probability\nprob_pred_matchup = classifier.predict_proba(X_matchup)[:,1]\ny_pred_matchup = classifier.predict(X_matchup)\n# pred = pd.DataFrame(data=y_pred_matchup,columns=['pred'])\npred = pd.DataFrame(data=prob_pred_matchup,columns=['pred'])\n\nresult = pd.concat([Matchup,pred], axis=1)\nresult = result.rename(columns={'ID':'id'})\nresult_team = result[['TeamID1','TeamID2','pred']]\nresult_team1 = result_team.merge(Teams[['TeamID','TeamName']],left_on=['TeamID1'],right_on=['TeamID'],how='left')\nresult_team1.rename(columns={'TeamName':'Team1'}, inplace = True)\nresult_team2 = result_team1.merge(Teams[['TeamID','TeamName']],left_on=['TeamID2'],right_on=['TeamID'],how='left')\nresult_team2.rename(columns={'TeamName':'Team2'}, inplace = True)\nresult_team2.drop(['TeamID1','TeamID2','TeamID_x','TeamID_y'], axis = 1, inplace = True)\nresult_team2[(result_team2['Team1'] == 'Arizona') & (result_team2['Team2'] == 'Buffalo')]",
      "execution_count": null,
      "outputs": []
    },
    {
      "metadata": {
        "_uuid": "b4e19c7aec87124111f336af22887dfb314aca15",
        "collapsed": true,
        "_cell_guid": "ee172b75-c2e7-462c-9b9d-f588d4c191ff",
        "trusted": false
      },
      "cell_type": "code",
      "source": "",
      "execution_count": null,
      "outputs": []
    }
  ],
  "metadata": {
    "kernelspec": {
      "display_name": "Python 3",
      "language": "python",
      "name": "python3"
    },
    "language_info": {
      "nbconvert_exporter": "python",
      "pygments_lexer": "ipython3",
      "version": "3.6.4",
      "name": "python",
      "codemirror_mode": {
        "version": 3,
        "name": "ipython"
      },
      "file_extension": ".py",
      "mimetype": "text/x-python"
    }
  },
  "nbformat": 4,
  "nbformat_minor": 1
}