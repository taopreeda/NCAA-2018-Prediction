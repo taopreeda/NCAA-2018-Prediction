{
 "cells": [
  {
   "cell_type": "code",
   "execution_count": 1,
   "metadata": {
    "_cell_guid": "b1076dfc-b9ad-4769-8c92-a6c4dae69d19",
    "_uuid": "8f2839f25d086af736a60e9eeb907d3b93b6e0e5",
    "scrolled": false
   },
   "outputs": [
    {
     "name": "stdout",
     "output_type": "stream",
     "text": [
      "['SampleSubmissionStage2.csv', 'SampleSubmissionStage1.csv', '.DS_Store', 'Teams.csv', 'TeamConferences.csv', 'NCAATourneySeeds.csv', 'SecondaryTourneyTeams.csv', 'NCAATourneySeedRoundSlots.csv', 'RegularSeasonDetailedResults.csv', 'RegularSeasonCompactResults.csv', 'TeamCoaches.csv', 'Cities.csv', 'SecondaryTourneyCompactResults.csv', 'GameCities.csv', 'TeamSpellings.csv', 'Seasons.csv', 'MasseyOrdinals.csv', 'ConferenceTourneyGames.csv', 'Conferences.csv', 'NCAATourneySlots.csv', 'NCAATourneyCompactResults.csv', 'NCAATourneyDetailedResults.csv']\n"
     ]
    }
   ],
   "source": [
    "import numpy as np # linear algebra\n",
    "import pandas as pd # data processing, CSV file I/O (e.g. pd.read_csv)\n",
    "import matplotlib.pyplot as plt\n",
    "%matplotlib inline\n",
    "import seaborn as sns # data visualization library  \n",
    "from functools import reduce\n",
    "import xgboost\n",
    "\n",
    "path = \"../NCAA-2018-Prediction/Data Files\"\n",
    "import os\n",
    "print(os.listdir(path))"
   ]
  },
  {
   "cell_type": "code",
   "execution_count": 3,
   "metadata": {
    "_cell_guid": "79c7e3d0-c299-4dcb-8224-4455121ee9b0",
    "_uuid": "d629ff2d2480ee46fbb7e2d37f6b5fab8052498a",
    "collapsed": true
   },
   "outputs": [],
   "source": [
    "# load data\n",
    "NCAATourneySeeds = pd.read_csv(path + '/NCAATourneySeeds.csv')\n",
    "NCAATourneyDetailedResults = pd.read_csv(path + '/NCAATourneyDetailedResults.csv')\n",
    "RegularSeasonCompactResults = pd.read_csv(path + '/RegularSeasonCompactResults.csv')\n",
    "RegularSeasonDetailedResults = pd.read_csv(path + '/RegularSeasonDetailedResults.csv')\n",
    "Teams = pd.read_csv(path + '/Teams.csv')\n",
    "Seasons = pd.read_csv(path + '/Seasons.csv')\n",
    "MasseyOrdinals = pd.read_csv(path + '/MasseyOrdinals.csv')\n",
    "SampleSubmissionStage1 = pd.read_csv(path + '/SampleSubmissionStage1.csv')\n",
    "ordinal = pd.read_csv(path + '/MasseyOrdinals.csv')"
   ]
  },
  {
   "cell_type": "markdown",
   "metadata": {},
   "source": [
    "## Add feature"
   ]
  },
  {
   "cell_type": "code",
   "execution_count": 4,
   "metadata": {
    "collapsed": true
   },
   "outputs": [],
   "source": [
    "# Average ranking of each team before NCAA March Madness each year\n",
    "ordinal_rank = pd.DataFrame({'Avgrank' : ordinal[ordinal['RankingDayNum'] == 133].groupby(['Season','TeamID'])['OrdinalRank'].mean()}).reset_index()"
   ]
  },
  {
   "cell_type": "code",
   "execution_count": 5,
   "metadata": {
    "_cell_guid": "11e0b596-f1b4-4eff-a79c-55ecd92ce018",
    "_uuid": "9c284ed22d72ebd773f9fc0e987a9c2cf08854ee",
    "collapsed": true,
    "scrolled": true
   },
   "outputs": [],
   "source": [
    "def add_feature(inputdf):\n",
    "    outdf = inputdf.copy()\n",
    "    outdf['WFGpct'] = outdf['WFGM']/outdf['WFGA']\n",
    "    outdf['LFGpct'] = outdf['LFGM']/outdf['LFGA']\n",
    "    outdf['WFGpct3'] = outdf['WFGM3']/outdf['WFGA3']\n",
    "    outdf['LFGpct3'] = outdf['LFGM3']/outdf['LFGA3']\n",
    "    outdf['WDefRtg'] = 100 * outdf['LScore']/(outdf['LFGA'] + 0.475 * outdf['LFTA'] - outdf['LOR'] + outdf['LTO'])\n",
    "    outdf['LDefRtg'] = 100 * outdf['WScore']/(outdf['WFGA'] + 0.475 * outdf['WFTA'] - outdf['WOR'] + outdf['WTO'])\n",
    "    outdf['WAT'] = outdf['WAst']/outdf['WTO']\n",
    "    outdf['LAT'] = outdf['LAst']/outdf['LTO']\n",
    "    outdf[np.isinf(outdf['LAT']) == True] = None\n",
    "    outdf['Part1'] = outdf['WFGA'] + 0.4* outdf['WFTA'] - 1.07 * (outdf['WOR']/(outdf['WOR'] + outdf['LDR'])) * (outdf['WFGA'] - outdf['WFGM']) + outdf['WTO']\n",
    "    outdf['Part2'] = outdf['LFGA'] + 0.4* outdf['LFTA'] - 1.07 * (outdf['LOR']/(outdf['LOR'] + outdf['WDR'])) * (outdf['LFGA'] - outdf['LFGM']) + outdf['LTO']\n",
    "    outdf['WOffRtg'] = 100 * outdf['WScore'] / (0.5* (outdf['Part1'] + outdf['Part2']))\n",
    "    outdf = outdf.drop(['Part1','Part2'],axis=1)\n",
    "    outdf['Part1'] = outdf['LFGA'] + 0.4* outdf['LFTA'] - 1.07 * (outdf['LOR']/(outdf['LOR'] + outdf['WDR'])) * (outdf['LFGA'] - outdf['LFGM']) + outdf['LTO']\n",
    "    outdf['Part2'] = outdf['WFGA'] + 0.4* outdf['WFTA'] - 1.07 * (outdf['WOR']/(outdf['WOR'] + outdf['LDR'])) * (outdf['WFGA'] - outdf['WFGM']) + outdf['WTO']\n",
    "    outdf['LOffRtg'] = 100 * outdf['LScore'] / (0.5* (outdf['Part1'] + outdf['Part2']))\n",
    "    outdf = outdf.drop(['Part1','Part2'],axis=1)\n",
    "    outdf = outdf[np.isfinite(outdf['Season'])]\n",
    "    return outdf"
   ]
  },
  {
   "cell_type": "code",
   "execution_count": 6,
   "metadata": {
    "_cell_guid": "cca4a44c-5cf8-4f5f-b25d-0091d18deb78",
    "_uuid": "0548cbcafe7abd788398aba645bbfc6b57c59fef",
    "collapsed": true
   },
   "outputs": [],
   "source": [
    "# Each team, Compute Avg of all features by year\n",
    "def stat_table(inputdf, var):\n",
    "    df = inputdf\n",
    "    df['W'] = df['W' + var]\n",
    "    df['L'] = df['L' + var]\n",
    "\n",
    "    W = df.groupby(['Season','WTeamID'])['W'].agg(['sum','count'])\n",
    "    W = W.reset_index().rename(columns={'sum':'Wsum','count':'Wcount','WTeamID':'TeamID'})\n",
    "    L = df.groupby(['Season','LTeamID'])['L'].agg(['sum','count'])\n",
    "    L = L.reset_index().rename(columns={'sum':'Lsum','count':'Lcount','LTeamID':'TeamID'})\n",
    "    stat = pd.merge(W,L,left_on=['Season','TeamID'],right_on=['Season','TeamID'],how='inner')\n",
    "    stat['sum'] = stat['Wsum'] + stat['Lsum']\n",
    "    stat['count'] = stat['Wcount'] + stat['Lcount']\n",
    "    stat['Avg'+var] = stat['sum']/stat['count']\n",
    "    stat = stat[['Season','TeamID','Avg'+var]]\n",
    "    return stat\n",
    "\n",
    "# Calculate the difference of each stat between winner and loser\n",
    "def add_diff(inputdf, statdf, var):\n",
    "    if (var != 'seed_int'):\n",
    "        df = inputdf.merge(statdf[['Season','TeamID','Avg'+var]],left_on=['Season','WTeamID'],right_on=['Season','TeamID'],how='left')\n",
    "        df2 = df.drop('TeamID',axis=1).rename(columns={'Avg'+var:'WAvg'+var})\n",
    "        df3 = df2.merge(statdf[['Season','TeamID','Avg'+var]],left_on=['Season','LTeamID'],right_on=['Season','TeamID'],how='left')\n",
    "        outputdf = df3.drop('TeamID',axis=1).rename(columns={'Avg'+var:'LAvg'+var})\n",
    "        outputdf['Diff'+var] = outputdf['WAvg'+var] - outputdf['LAvg'+var]\n",
    "        outputdf = outputdf.drop(['WAvg'+var,'LAvg'+var], axis = 1)\n",
    "    else:\n",
    "        df = inputdf.merge(statdf[['Season','TeamID',var]],left_on=['Season','WTeamID'],right_on=['Season','TeamID'],how='left')\n",
    "        df2 = df.drop('TeamID',axis=1).rename(columns={var:'W'+var})\n",
    "        df3 = df2.merge(statdf[['Season','TeamID',var]],left_on=['Season','LTeamID'],right_on=['Season','TeamID'],how='left')\n",
    "        outputdf = df3.drop('TeamID',axis=1).rename(columns={var:'L'+var})\n",
    "        outputdf['Diff'+var] = outputdf['W'+var] - outputdf['L'+var]\n",
    "        outputdf = outputdf.drop(['W'+var,'L'+var], axis = 1)\n",
    "    return outputdf"
   ]
  },
  {
   "cell_type": "markdown",
   "metadata": {},
   "source": [
    "## Add features to stat_final df"
   ]
  },
  {
   "cell_type": "code",
   "execution_count": 7,
   "metadata": {
    "_cell_guid": "e177cf1e-056c-4067-a854-ec49ea4961d6",
    "_uuid": "b9b693cdcc64be598054fb7c8e57a34bd47d6881",
    "collapsed": true
   },
   "outputs": [],
   "source": [
    "df = pd.concat([RegularSeasonDetailedResults, NCAATourneyDetailedResults])\n",
    "finaldf = add_feature(inputdf = df)\n",
    "finaldf['target'] = 1\n",
    "ast = stat_table(finaldf, var = 'Ast')\n",
    "to = stat_table(finaldf, var = 'TO')\n",
    "fga = stat_table(finaldf, var = 'FGA')\n",
    "fga3 = stat_table(finaldf, var = 'FGA3')\n",
    "fgpct = stat_table(finaldf, var = 'FGpct')\n",
    "fgpct3 = stat_table(finaldf, var = 'FGpct3')\n",
    "at = stat_table(finaldf, var = 'AT')\n",
    "offreb = stat_table(finaldf, var = 'OR')\n",
    "defreb = stat_table(finaldf, var = 'DR')\n",
    "offrtg = stat_table(finaldf, var = 'OffRtg')\n",
    "defrtg = stat_table(finaldf, var = 'DefRtg')\n",
    "dfs = [ast,to,fga,fga3,fgpct,fgpct3,at,offreb,defreb,offrtg,defrtg]\n",
    "stat_final = reduce(lambda left,right: pd.merge(left,right,on=['Season','TeamID']), dfs)"
   ]
  },
  {
   "cell_type": "code",
   "execution_count": 8,
   "metadata": {},
   "outputs": [
    {
     "data": {
      "text/html": [
       "<div>\n",
       "<style>\n",
       "    .dataframe thead tr:only-child th {\n",
       "        text-align: right;\n",
       "    }\n",
       "\n",
       "    .dataframe thead th {\n",
       "        text-align: left;\n",
       "    }\n",
       "\n",
       "    .dataframe tbody tr th {\n",
       "        vertical-align: top;\n",
       "    }\n",
       "</style>\n",
       "<table border=\"1\" class=\"dataframe\">\n",
       "  <thead>\n",
       "    <tr style=\"text-align: right;\">\n",
       "      <th></th>\n",
       "      <th>Season</th>\n",
       "      <th>TeamID</th>\n",
       "      <th>AvgAst</th>\n",
       "      <th>AvgTO</th>\n",
       "      <th>AvgFGA</th>\n",
       "      <th>AvgFGA3</th>\n",
       "      <th>AvgFGpct</th>\n",
       "      <th>AvgFGpct3</th>\n",
       "      <th>AvgAT</th>\n",
       "      <th>AvgOR</th>\n",
       "      <th>AvgDR</th>\n",
       "      <th>AvgOffRtg</th>\n",
       "      <th>AvgDefRtg</th>\n",
       "    </tr>\n",
       "  </thead>\n",
       "  <tbody>\n",
       "    <tr>\n",
       "      <th>0</th>\n",
       "      <td>2003.0</td>\n",
       "      <td>1102.0</td>\n",
       "      <td>13.000000</td>\n",
       "      <td>11.428571</td>\n",
       "      <td>39.785714</td>\n",
       "      <td>20.821429</td>\n",
       "      <td>0.486149</td>\n",
       "      <td>0.367637</td>\n",
       "      <td>1.375064</td>\n",
       "      <td>4.178571</td>\n",
       "      <td>16.821429</td>\n",
       "      <td>105.695751</td>\n",
       "      <td>103.815398</td>\n",
       "    </tr>\n",
       "    <tr>\n",
       "      <th>1</th>\n",
       "      <td>2003.0</td>\n",
       "      <td>1103.0</td>\n",
       "      <td>15.222222</td>\n",
       "      <td>12.629630</td>\n",
       "      <td>55.851852</td>\n",
       "      <td>16.074074</td>\n",
       "      <td>0.487294</td>\n",
       "      <td>0.331990</td>\n",
       "      <td>1.324485</td>\n",
       "      <td>9.777778</td>\n",
       "      <td>19.925926</td>\n",
       "      <td>113.112726</td>\n",
       "      <td>110.627622</td>\n",
       "    </tr>\n",
       "    <tr>\n",
       "      <th>2</th>\n",
       "      <td>2003.0</td>\n",
       "      <td>1104.0</td>\n",
       "      <td>12.137931</td>\n",
       "      <td>13.103448</td>\n",
       "      <td>57.000000</td>\n",
       "      <td>19.586207</td>\n",
       "      <td>0.419794</td>\n",
       "      <td>0.328588</td>\n",
       "      <td>1.014204</td>\n",
       "      <td>13.413793</td>\n",
       "      <td>23.793103</td>\n",
       "      <td>105.732100</td>\n",
       "      <td>98.773850</td>\n",
       "    </tr>\n",
       "    <tr>\n",
       "      <th>3</th>\n",
       "      <td>2003.0</td>\n",
       "      <td>1105.0</td>\n",
       "      <td>14.538462</td>\n",
       "      <td>18.653846</td>\n",
       "      <td>61.615385</td>\n",
       "      <td>20.769231</td>\n",
       "      <td>0.396204</td>\n",
       "      <td>0.359630</td>\n",
       "      <td>0.861957</td>\n",
       "      <td>13.500000</td>\n",
       "      <td>23.115385</td>\n",
       "      <td>95.209429</td>\n",
       "      <td>100.981886</td>\n",
       "    </tr>\n",
       "    <tr>\n",
       "      <th>4</th>\n",
       "      <td>2003.0</td>\n",
       "      <td>1106.0</td>\n",
       "      <td>11.678571</td>\n",
       "      <td>17.035714</td>\n",
       "      <td>55.285714</td>\n",
       "      <td>17.642857</td>\n",
       "      <td>0.425530</td>\n",
       "      <td>0.350196</td>\n",
       "      <td>0.723189</td>\n",
       "      <td>12.285714</td>\n",
       "      <td>23.857143</td>\n",
       "      <td>95.315266</td>\n",
       "      <td>94.460182</td>\n",
       "    </tr>\n",
       "  </tbody>\n",
       "</table>\n",
       "</div>"
      ],
      "text/plain": [
       "   Season  TeamID     AvgAst      AvgTO     AvgFGA    AvgFGA3  AvgFGpct  \\\n",
       "0  2003.0  1102.0  13.000000  11.428571  39.785714  20.821429  0.486149   \n",
       "1  2003.0  1103.0  15.222222  12.629630  55.851852  16.074074  0.487294   \n",
       "2  2003.0  1104.0  12.137931  13.103448  57.000000  19.586207  0.419794   \n",
       "3  2003.0  1105.0  14.538462  18.653846  61.615385  20.769231  0.396204   \n",
       "4  2003.0  1106.0  11.678571  17.035714  55.285714  17.642857  0.425530   \n",
       "\n",
       "   AvgFGpct3     AvgAT      AvgOR      AvgDR   AvgOffRtg   AvgDefRtg  \n",
       "0   0.367637  1.375064   4.178571  16.821429  105.695751  103.815398  \n",
       "1   0.331990  1.324485   9.777778  19.925926  113.112726  110.627622  \n",
       "2   0.328588  1.014204  13.413793  23.793103  105.732100   98.773850  \n",
       "3   0.359630  0.861957  13.500000  23.115385   95.209429  100.981886  \n",
       "4   0.350196  0.723189  12.285714  23.857143   95.315266   94.460182  "
      ]
     },
     "execution_count": 8,
     "metadata": {},
     "output_type": "execute_result"
    }
   ],
   "source": [
    "stat_final.head()"
   ]
  },
  {
   "cell_type": "code",
   "execution_count": 9,
   "metadata": {
    "_cell_guid": "9d3a8661-a72e-42eb-aa54-8e7b3ad03d45",
    "_uuid": "027f6b6b7738125f5aed5f0bf8dcf34dc6b18a29",
    "collapsed": true
   },
   "outputs": [],
   "source": [
    "# Create seed feature\n",
    "def seed_to_int(seed):\n",
    "    #Get just the digits from the seeding. Return as int\n",
    "    s_int = int(seed[1:3])\n",
    "    return s_int\n",
    "df_seeds = NCAATourneySeeds.copy()\n",
    "df_seeds['seed_int'] = df_seeds.Seed.apply(seed_to_int)\n",
    "df_seeds.drop(labels=['Seed'], inplace=True, axis=1) # This is the string label"
   ]
  },
  {
   "cell_type": "code",
   "execution_count": 10,
   "metadata": {
    "_cell_guid": "6029bb3a-701d-4012-9765-d027eb56d343",
    "_uuid": "b478b88053e108a98bf9ae86ae28e52cd0687970",
    "collapsed": true
   },
   "outputs": [],
   "source": [
    "# Add seed_int to stat_final df\n",
    "stat_final = stat_final.merge(df_seeds, left_on=['Season','TeamID'], right_on=['Season','TeamID'], how='left')\n",
    "stat_final['seed_int'].fillna(0,inplace=True)\n",
    "stat_final = stat_final.merge(ordinal_rank, left_on=['Season','TeamID'], right_on=['Season','TeamID'], how='left')\n",
    "stat_final['Avgrank'].fillna(0,inplace=True)"
   ]
  },
  {
   "cell_type": "code",
   "execution_count": 11,
   "metadata": {
    "_cell_guid": "c81dce3f-74d4-4947-9986-dc64c4b378b1",
    "_uuid": "4d54a6bbb60b4d5169e36798e3487f97746ced72",
    "collapsed": true,
    "scrolled": true
   },
   "outputs": [],
   "source": [
    "# Add AvgDiff to final df\n",
    "finaldf = add_diff(finaldf, stat_final, 'Ast')\n",
    "finaldf = add_diff(finaldf, stat_final, 'TO')\n",
    "finaldf = add_diff(finaldf, stat_final, 'FGA')\n",
    "finaldf = add_diff(finaldf, stat_final, 'FGA3')\n",
    "finaldf = add_diff(finaldf, stat_final, 'FGpct')\n",
    "finaldf = add_diff(finaldf, stat_final, 'FGpct3')\n",
    "finaldf = add_diff(finaldf, stat_final, 'AT')\n",
    "finaldf = add_diff(finaldf, stat_final, 'OR')\n",
    "finaldf = add_diff(finaldf, stat_final, 'DR')\n",
    "finaldf = add_diff(finaldf, stat_final, 'OffRtg')\n",
    "finaldf = add_diff(finaldf, stat_final, 'DefRtg')\n",
    "finaldf = add_diff(finaldf, stat_final, 'seed_int')\n",
    "finaldf = add_diff(finaldf, stat_final, 'rank')\n",
    "finaldf = finaldf.drop(['W','L'], axis = 1)"
   ]
  },
  {
   "cell_type": "code",
   "execution_count": 12,
   "metadata": {
    "_cell_guid": "6730a0ea-cd47-487e-8dc7-580953aaa2b0",
    "_uuid": "90bc86d2050052ef6556f6460e44deac7ebee7e2",
    "collapsed": true
   },
   "outputs": [],
   "source": [
    "# Drop N/A\n",
    "finaldf = finaldf.dropna(how='any')"
   ]
  },
  {
   "cell_type": "code",
   "execution_count": 18,
   "metadata": {},
   "outputs": [
    {
     "name": "stdout",
     "output_type": "stream",
     "text": [
      "Regular Season records 81936\n",
      "NCAA Season records 945\n"
     ]
    }
   ],
   "source": [
    "print('Regular Season records', finaldf[finaldf['DayNum'] < 136]['Season'].count())\n",
    "print('NCAA Season records', finaldf[finaldf['DayNum'] >= 136]['Season'].count())"
   ]
  },
  {
   "cell_type": "code",
   "execution_count": 19,
   "metadata": {
    "_cell_guid": "56171025-617a-4588-af05-f8db2a55c90b",
    "_uuid": "0188d9e17fd933d331b9be1a6f407e4d369b5666",
    "collapsed": true,
    "scrolled": true
   },
   "outputs": [],
   "source": [
    "# Add weight variable, put more weight to NCAA data by setting at 100.\n",
    "# This is an arbitrary number just to make NCAA season equally important with the regular season.\n",
    "finaldf['weight'] = 1\n",
    "finaldf.loc[finaldf[finaldf['DayNum'] >= 136].index,'weight'] = 100"
   ]
  },
  {
   "cell_type": "code",
   "execution_count": 31,
   "metadata": {
    "_cell_guid": "54337dd5-ee05-4e6c-bc5a-f4933bbff9b8",
    "_uuid": "d0344090a57c73f6c5b444f3a01291b69574ba3a",
    "collapsed": true,
    "scrolled": true
   },
   "outputs": [],
   "source": [
    "# Variable Analysis, keep only necessary variables\n",
    "train_data = finaldf[['target','weight'\n",
    "                      ,'WLoc','Diffrank'\n",
    "                      ,'DiffAst','DiffTO'\n",
    "                      ,'DiffFGpct3'\n",
    "                      ,'DiffFGA','DiffFGA3'\n",
    "                      ,'DiffOffRtg','DiffDefRtg']]"
   ]
  },
  {
   "cell_type": "code",
   "execution_count": 32,
   "metadata": {
    "_cell_guid": "15164565-5e55-452c-9678-3a6d174a5c4a",
    "_uuid": "1162906f37245f7f358b052d2db6aa0be38c1139"
   },
   "outputs": [
    {
     "data": {
      "text/plain": [
       "<matplotlib.axes._subplots.AxesSubplot at 0x126483080>"
      ]
     },
     "execution_count": 32,
     "metadata": {},
     "output_type": "execute_result"
    },
    {
     "data": {
      "image/png": "[encoded data removed]",
      "text/plain": [
       "<matplotlib.figure.Figure at 0x12656a6a0>"
      ]
     },
     "metadata": {},
     "output_type": "display_data"
    }
   ],
   "source": [
    "#correlation map\n",
    "f,ax = plt.subplots(figsize=(14, 14))\n",
    "sns.heatmap(train_data.loc[:, train_data.columns != 'target'].corr(), annot=True, linewidths=.5, fmt= '.1f',ax=ax , cmap=\"YlGnBu\")"
   ]
  },
  {
   "cell_type": "code",
   "execution_count": 22,
   "metadata": {
    "_cell_guid": "0197ca9a-a148-407c-9148-940512153ba5",
    "_uuid": "0b4aa10259a7a9a78e80842904495ee5dee16188",
    "collapsed": true
   },
   "outputs": [],
   "source": [
    "# Target variable are all equal to 1. Half of them needs to change to 0\n",
    "# Have to flip the sign of most features.\n",
    "# Swap location from Home(H) to Away(A).\n",
    "train0= train_data.sample(frac=0.5,random_state=200)\n",
    "train1= train_data.drop(train0.index)\n",
    "train0_X = train0.loc[:, ~train0.columns.isin(['target','weight'])]\n",
    "train0_X_num = train0_X.loc[:, train0_X.columns != 'WLoc']\n",
    "train0_X_cat = train0_X.loc[:, train0_X.columns == 'WLoc']\n",
    "train0_w = train0.loc[:, train0.columns == 'weight']\n",
    "train0_y = train0.loc[:, train0.columns == 'target']"
   ]
  },
  {
   "cell_type": "code",
   "execution_count": 23,
   "metadata": {
    "_cell_guid": "83a44439-4a97-403f-a841-23ab615b384c",
    "_uuid": "cc96a55109ed222d946c922dc1c8a5505fefa30a",
    "collapsed": true
   },
   "outputs": [],
   "source": [
    "train0_X_num = train0_X_num.apply(lambda x: x*-1)\n",
    "train0_X_cat = train0_X_cat.replace('A','X')\n",
    "train0_X_cat = train0_X_cat.replace('H','A')\n",
    "train0_X_cat = train0_X_cat.replace('X','H')\n",
    "train0_y = train0_y.apply(lambda x: x*0)"
   ]
  },
  {
   "cell_type": "code",
   "execution_count": 24,
   "metadata": {
    "_cell_guid": "32aba5ad-675c-415b-8bfb-41ba3872b561",
    "_uuid": "35eeca6c76b8c0e00fc0a200397ef300102ace5a",
    "collapsed": true
   },
   "outputs": [],
   "source": [
    "train0_X = pd.concat([train0_X_cat, train0_X_num], axis = 1)\n",
    "train0 = pd.concat([train0_y, train0_w, train0_X], axis = 1)\n",
    "train_data = pd.concat([train0, train1], axis = 0)\n",
    "\n",
    "train_data = pd.get_dummies(train_data)\n",
    "train_data.rename(columns={'WLoc_A':'Loc_A','WLoc_H':'Loc_H','WLoc_N':'Loc_N'},inplace=True)\n",
    "train_data.drop(['Loc_N'], axis = 1, inplace= True)"
   ]
  },
  {
   "cell_type": "code",
   "execution_count": 25,
   "metadata": {
    "_cell_guid": "30efb4d4-9512-467c-85d9-55c7f5aa5641",
    "_uuid": "ba700ccfd3092bf98b43abe823793e8efe492cfa",
    "scrolled": true
   },
   "outputs": [
    {
     "data": {
      "image/png": "[encoded data removed]",
      "text/plain": [
       "<matplotlib.figure.Figure at 0x116ca95f8>"
      ]
     },
     "metadata": {},
     "output_type": "display_data"
    }
   ],
   "source": [
    "# Visualize predictive power of each feature\n",
    "def plot_hist(var):\n",
    "    df_graph = train_data[[var,'target']]\n",
    "    plt.hist(df_graph[df_graph[\"target\"]== 0][var].reset_index(drop=True), alpha=0.6, label=\"L\")\n",
    "    plt.hist(df_graph[df_graph[\"target\"]==1][var].reset_index(drop=True), alpha=0.6, label=\"W\")\n",
    "    plt.legend()\n",
    "    plt.show()\n",
    "plot_hist('DiffDefRtg')"
   ]
  },
  {
   "cell_type": "code",
   "execution_count": 26,
   "metadata": {
    "_cell_guid": "76e48f2e-890f-4c73-b23d-034dc35fa473",
    "_uuid": "a68ca3372c0bad02384a2dc28e19819be2f2007f",
    "collapsed": true,
    "scrolled": true
   },
   "outputs": [],
   "source": [
    "X = train_data.iloc[:, 2:]\n",
    "w = train_data.iloc[:, 1]\n",
    "y = train_data.iloc[:, 0]"
   ]
  },
  {
   "cell_type": "code",
   "execution_count": 27,
   "metadata": {
    "_cell_guid": "8dfb745b-2dbd-49f3-b3e6-621024ba0db8",
    "_uuid": "c36b9f48db7d39921a929a3573acf6d78aff31a8",
    "collapsed": true
   },
   "outputs": [],
   "source": [
    "# Split train and test set\n",
    "from sklearn.model_selection import train_test_split\n",
    "X_train, X_test, y_train, y_test, w_train, w_test = train_test_split(X, y, w, test_size = 0.2, random_state = 0)"
   ]
  },
  {
   "cell_type": "code",
   "execution_count": 78,
   "metadata": {
    "_cell_guid": "afc22b9f-7b63-4ba2-bf14-1068fa9e8561",
    "_uuid": "294371dce408683931ac9d467d68fb80e0da3e24",
    "scrolled": true
   },
   "outputs": [
    {
     "name": "stdout",
     "output_type": "stream",
     "text": [
      "Feature ranking:\n",
      "1. feature 0 (0.331119)\n",
      "2. feature 7 (0.117450)\n",
      "3. feature 6 (0.112993)\n",
      "4. feature 1 (0.078397)\n",
      "5. feature 2 (0.075693)\n",
      "6. feature 3 (0.074651)\n",
      "7. feature 4 (0.073728)\n",
      "8. feature 5 (0.073651)\n",
      "9. feature 9 (0.038332)\n",
      "10. feature 8 (0.023986)\n"
     ]
    }
   ],
   "source": [
    "# Variable Selection\n",
    "from sklearn.ensemble import RandomForestClassifier\n",
    "clf_rf = RandomForestClassifier()      \n",
    "clr_rf = clf_rf.fit(X_train,y_train)\n",
    "importances = clr_rf.feature_importances_\n",
    "std = np.std([tree.feature_importances_ for tree in clf_rf.estimators_],\n",
    "             axis=0)\n",
    "indices = np.argsort(importances)[::-1]\n",
    "\n",
    "# Print the feature ranking\n",
    "print(\"Feature ranking:\")\n",
    "\n",
    "for f in range(X_train.shape[1]):\n",
    "    print(\"%d. feature %d (%f)\" % (f + 1, indices[f], importances[indices[f]]))"
   ]
  },
  {
   "cell_type": "code",
   "execution_count": 79,
   "metadata": {
    "_cell_guid": "f26086ec-cfc4-4826-930c-aee49dc600e4",
    "_uuid": "443aaaf2f34f8032dfe206b65c7d3018aff3f019"
   },
   "outputs": [
    {
     "data": {
      "image/png": "[encoded data removed]",
      "text/plain": [
       "<matplotlib.figure.Figure at 0x1180d8518>"
      ]
     },
     "metadata": {},
     "output_type": "display_data"
    }
   ],
   "source": [
    "# Plot the feature importances of the forest\n",
    "\n",
    "plt.figure(1, figsize=(10, 10))\n",
    "plt.title(\"Feature importances\")\n",
    "plt.bar(range(X_train.shape[1]), importances[indices],\n",
    "       color=\"g\", yerr=std[indices], align=\"center\")\n",
    "plt.xticks(range(X_train.shape[1]), X_train.columns[indices],rotation=90)\n",
    "plt.xlim([-1, X_train.shape[1]])\n",
    "plt.show()"
   ]
  },
  {
   "cell_type": "code",
   "execution_count": 34,
   "metadata": {
    "_cell_guid": "e2185c3d-412e-47ee-8a78-5115fdacb164",
    "_uuid": "e6c0b456a1f1d13334b1af2b8a0c5bef398932da"
   },
   "outputs": [
    {
     "name": "stdout",
     "output_type": "stream",
     "text": [
      "Chosen best 5 feature by rfe: Index(['Diffrank', 'DiffAst', 'DiffFGpct3', 'DiffOffRtg', 'DiffDefRtg'], dtype='object')\n",
      "Optimal number of features : 10\n",
      "Best features : Index(['Diffrank', 'DiffAst', 'DiffTO', 'DiffFGpct3', 'DiffFGA', 'DiffFGA3',\n",
      "       'DiffOffRtg', 'DiffDefRtg', 'Loc_A', 'Loc_H'],\n",
      "      dtype='object')\n"
     ]
    }
   ],
   "source": [
    "# Use RFE to select most important features.\n",
    "from sklearn.ensemble import RandomForestClassifier\n",
    "from sklearn.feature_selection import RFE\n",
    "\n",
    "clf_rf = RandomForestClassifier() \n",
    "rfe = RFE(estimator=clf_rf, n_features_to_select=5, step=1)\n",
    "rfe = rfe.fit(X_train, y_train)\n",
    "\n",
    "print('Chosen best 5 feature by rfe:',X_train.columns[rfe.support_])\n",
    "\n",
    "# Use RFECV to choose optimal number of features\n",
    "from sklearn.feature_selection import RFECV\n",
    "\n",
    "clf_rf_4 = RandomForestClassifier() \n",
    "rfecv = RFECV(estimator=clf_rf_4, step=1, cv=5,scoring='accuracy')   #5-fold cross-validation\n",
    "rfecv = rfecv.fit(X_train, y_train)\n",
    "\n",
    "print('Optimal number of features :', rfecv.n_features_)\n",
    "print('Best features :', X_train.columns[rfecv.support_])"
   ]
  },
  {
   "cell_type": "code",
   "execution_count": 35,
   "metadata": {
    "_cell_guid": "b74e5bdc-8f14-410d-ac1c-e711a56a347c",
    "_uuid": "a72fb5add6c62276de70bfde1307bc014c32f10d"
   },
   "outputs": [
    {
     "data": {
      "image/png": "[encoded data removed]",
      "text/plain": [
       "<matplotlib.figure.Figure at 0x130a06b38>"
      ]
     },
     "metadata": {},
     "output_type": "display_data"
    }
   ],
   "source": [
    "import matplotlib.pyplot as plt\n",
    "plt.figure()\n",
    "plt.xlabel(\"Number of features selected\")\n",
    "plt.ylabel(\"Cross validation score of number of selected features\")\n",
    "plt.plot(range(1, len(rfecv.grid_scores_) + 1), rfecv.grid_scores_)\n",
    "plt.show()"
   ]
  },
  {
   "cell_type": "code",
   "execution_count": 42,
   "metadata": {
    "_cell_guid": "9c69ceab-6199-46d9-b240-243ca51e021c",
    "_uuid": "47b0af81bc20c413eb3a8c144b3d8cf97b4e968c",
    "scrolled": false
   },
   "outputs": [
    {
     "name": "stdout",
     "output_type": "stream",
     "text": [
      "Mean :  0.779394816849\n",
      "Std :  0.00397984149807\n",
      "best accuracy : 0.777449324324\n",
      "best parameters : {'colsample_bytree': 0.5, 'max_depth': 2, 'n_estimators': 1000, 'reg_alpha': 0.03, 'subsample': 0.6}\n"
     ]
    }
   ],
   "source": [
    "from xgboost import XGBClassifier\n",
    "classifier = XGBClassifier()\n",
    "classifier.fit(X_train, y_train, sample_weight=w_train)\n",
    "\n",
    "# Applying k-Fold Cross Validation\n",
    "from sklearn.model_selection import cross_val_score\n",
    "accuracies = cross_val_score(estimator = classifier, X = X_train, y = y_train, cv = 10)\n",
    "print('Mean : ' , accuracies.mean())\n",
    "print('Std : ' , accuracies.std())\n",
    "\n",
    "from sklearn.model_selection import GridSearchCV\n",
    "parameters={\n",
    "    'max_depth': [2], #[3,4,5,6,7,8,9],\n",
    "    'subsample': [0.6], #[0.4,0.5,0.6,0.7,0.8,0.9,1.0],\n",
    "    'colsample_bytree': [0.5], #[0.5,0.6,0.7,0.8],\n",
    "    'n_estimators': [1000], #[1000,2000,3000]\n",
    "    'reg_alpha': [0.03] #[0.01, 0.02, 0.03, 0.04]\n",
    "}\n",
    "grid_search = GridSearchCV(estimator = classifier,\n",
    "                           param_grid = parameters,\n",
    "                           scoring = 'accuracy',\n",
    "                           cv = 10,\n",
    "                           n_jobs = -1)\n",
    "grid_search = grid_search.fit(X_train, y_train)\n",
    "best_accuracy = grid_search.best_score_\n",
    "best_parameters = grid_search.best_params_\n",
    "\n",
    "print('best accuracy :', best_accuracy)\n",
    "print('best parameters :', best_parameters)"
   ]
  },
  {
   "cell_type": "code",
   "execution_count": 43,
   "metadata": {
    "_cell_guid": "734bb53f-15a8-4afd-b7d5-70a6dbe87a0a",
    "_uuid": "bcec84b581e59432734b111ee201b5b301e85846"
   },
   "outputs": [
    {
     "name": "stdout",
     "output_type": "stream",
     "text": [
      "cm :  [[6294 1864]\n",
      " [2022 6397]]\n",
      "Accuracy :  0.765578814019\n"
     ]
    }
   ],
   "source": [
    "#Probability output for logistic regression\n",
    "prob_pred = classifier.predict_proba(X_test)[:,1]\n",
    "y_pred = classifier.predict(X_test)\n",
    "\n",
    "# Making the Confusion Matrix\n",
    "from sklearn.metrics import confusion_matrix\n",
    "cm = confusion_matrix(y_test, y_pred)\n",
    "print('cm : ', cm)\n",
    "print('Accuracy : ', (cm[0][0]+cm[1][1])/cm.sum())"
   ]
  },
  {
   "cell_type": "code",
   "execution_count": 44,
   "metadata": {
    "_cell_guid": "d5366b71-0444-40f0-8ed5-8cb53cb03388",
    "_uuid": "85bc9e5adb71d3fd77c84bd8a967fe1511ccfe69",
    "collapsed": true
   },
   "outputs": [],
   "source": [
    "# Check result on NCAA\n",
    "NCAA_data = finaldf[['target','DayNum'\n",
    "                      ,'WLoc','Diffrank'\n",
    "                      ,'DiffAst','DiffTO'\n",
    "                     ,'DiffFGpct3'\n",
    "                      ,'DiffFGA','DiffFGA3'\n",
    "                      ,'DiffOffRtg','DiffDefRtg'\n",
    "                     ]]\n",
    "NCAA_data = NCAA_data[NCAA_data['DayNum'] >= 136]\n",
    "NCAA_data.drop(['DayNum'], axis = 1, inplace=True)\n",
    "NCAA_data = pd.get_dummies(NCAA_data)\n",
    "NCAA_data.rename(columns={'WLoc_N':'Loc_N'},inplace=True)\n",
    "NCAA_data['Loc_A'] = 0\n",
    "NCAA_data['Loc_H'] = 0\n",
    "NCAA_data.drop(['Loc_N'], axis = 1 , inplace = True)\n",
    "\n",
    "X_NCAA = NCAA_data.iloc[:, 1:]\n",
    "y_NCAA = NCAA_data.iloc[:, 0]"
   ]
  },
  {
   "cell_type": "code",
   "execution_count": 45,
   "metadata": {
    "_cell_guid": "39b855ba-fcea-40a2-a1eb-03e48f2168a5",
    "_uuid": "fdf90d5490d116669bf79a1cc148173ebf953a6e"
   },
   "outputs": [
    {
     "name": "stdout",
     "output_type": "stream",
     "text": [
      "[[  0   0]\n",
      " [259 686]]\n",
      "Accuracy :  0.725925925926\n"
     ]
    }
   ],
   "source": [
    "y_pred_NCAA = classifier.predict(X_NCAA)\n",
    "cm = confusion_matrix(y_NCAA, y_pred_NCAA)\n",
    "print(cm)\n",
    "print('Accuracy : ', (cm[0][0]+cm[1][1])/cm.sum())"
   ]
  },
  {
   "cell_type": "code",
   "execution_count": 51,
   "metadata": {
    "_cell_guid": "f826d378-c9c6-47fb-a799-cef8b13a7f44",
    "_uuid": "67aa13f31200d4bbbfc854d7fe9eb176d4ae27b8"
   },
   "outputs": [
    {
     "data": {
      "image/png": "[encoded data removed]",
      "text/plain": [
       "<matplotlib.figure.Figure at 0x13099a1d0>"
      ]
     },
     "metadata": {},
     "output_type": "display_data"
    }
   ],
   "source": [
    "# ROC for all training data\n",
    "from sklearn.metrics import roc_auc_score\n",
    "from sklearn.metrics import roc_curve\n",
    "roc_auc = roc_auc_score(y_train, classifier.predict(X_train))\n",
    "fpr, tpr, thresholds = roc_curve(y_train, classifier.predict_proba(X_train)[:,1])\n",
    "plt.figure()\n",
    "plt.plot(fpr, tpr, label='XGBoost (area = %0.2f)' % roc_auc)\n",
    "plt.plot([0, 1], [0, 1],'r--')\n",
    "plt.xlim([0.0, 1.0])\n",
    "plt.ylim([0.0, 1.05])\n",
    "plt.xlabel('False Positive Rate')\n",
    "plt.ylabel('True Positive Rate')\n",
    "plt.title('Receiver operating characteristic')\n",
    "plt.legend(loc=\"lower right\")\n",
    "plt.savefig('Log_ROC')\n",
    "plt.show()"
   ]
  },
  {
   "cell_type": "code",
   "execution_count": 52,
   "metadata": {
    "_cell_guid": "8061505a-df16-4a03-a4af-5893f1fee233",
    "_uuid": "4eb02f67d2903a3e88af630d2b2e4340d9bea616",
    "scrolled": true
   },
   "outputs": [
    {
     "data": {
      "text/plain": [
       "array([[32282,  9158],\n",
       "       [ 9515, 31926]])"
      ]
     },
     "execution_count": 52,
     "metadata": {},
     "output_type": "execute_result"
    }
   ],
   "source": [
    "# Confusion matrix for all data\n",
    "y_pred_all = classifier.predict(X)\n",
    "cm = confusion_matrix(y, y_pred_all)\n",
    "cm"
   ]
  },
  {
   "cell_type": "code",
   "execution_count": 53,
   "metadata": {
    "_cell_guid": "fcaffa9d-0806-49ad-8f4f-d6952c118a30",
    "_uuid": "01fd808cf1a8249268fa97c022edde03373731bd",
    "collapsed": true
   },
   "outputs": [],
   "source": [
    "# Create submission file\n",
    "SampleSubmissionStage2 = pd.read_csv(path + '/SampleSubmissionStage2.csv')\n",
    "Matchup = SampleSubmissionStage2.copy()\n",
    "Matchup[['Season', 'WTeamID', 'LTeamID']] = Matchup['ID'].str.split(\"_\", expand=True)\n",
    "Matchup.drop(['Pred'], axis = 1, inplace=True)\n",
    "Matchup['Season'] = Matchup['Season'].astype(int)\n",
    "Matchup['WTeamID'] = Matchup['WTeamID'].astype(int)\n",
    "Matchup['LTeamID'] = Matchup['LTeamID'].astype(int)"
   ]
  },
  {
   "cell_type": "code",
   "execution_count": 54,
   "metadata": {
    "_cell_guid": "2eae4100-65a1-4b0b-8905-64e05cb4a02a",
    "_uuid": "b618a583501562e4632d2fdaffd131fa347ec57f",
    "collapsed": true
   },
   "outputs": [],
   "source": [
    "Matchup = add_diff(Matchup, stat_final, 'Ast')\n",
    "Matchup = add_diff(Matchup, stat_final, 'TO')\n",
    "Matchup = add_diff(Matchup, stat_final, 'FGA')\n",
    "Matchup = add_diff(Matchup, stat_final, 'FGA3')\n",
    "Matchup = add_diff(Matchup, stat_final, 'FGpct')\n",
    "Matchup = add_diff(Matchup, stat_final, 'FGpct3')\n",
    "Matchup = add_diff(Matchup, stat_final, 'AT')\n",
    "Matchup = add_diff(Matchup, stat_final, 'OR')\n",
    "Matchup = add_diff(Matchup, stat_final, 'DR')\n",
    "Matchup = add_diff(Matchup, stat_final, 'OffRtg')\n",
    "Matchup = add_diff(Matchup, stat_final, 'DefRtg')\n",
    "Matchup = add_diff(Matchup, stat_final, 'seed_int')\n",
    "Matchup = add_diff(Matchup, stat_final, 'rank')\n",
    "Matchup.rename(columns={'WTeamID':'TeamID1','LTeamID':'TeamID2'}, inplace=True)"
   ]
  },
  {
   "cell_type": "code",
   "execution_count": 56,
   "metadata": {
    "_cell_guid": "25aa7b5b-0e60-4f3e-8210-d477af382781",
    "_uuid": "a47d139bf29b061cda34670060bb456782057a8e",
    "collapsed": true,
    "scrolled": true
   },
   "outputs": [],
   "source": [
    "Matchup_data = Matchup.loc[:,X_train.drop(['Loc_A','Loc_H'], axis = 1).columns]\n",
    "Matchup_data['Loc_A'] = 0\n",
    "Matchup_data['Loc_H'] = 0\n",
    "X_matchup = Matchup_data"
   ]
  },
  {
   "cell_type": "code",
   "execution_count": 57,
   "metadata": {
    "_cell_guid": "18f5a695-5bbf-45d1-9528-d7fd7e7ab720",
    "_uuid": "79d371cad6e6c9b76a6123d7f9d5b9e17b5360b8",
    "collapsed": true
   },
   "outputs": [],
   "source": [
    "#Output Probability\n",
    "prob_pred_matchup = classifier.predict_proba(X_matchup)[:,1]\n",
    "y_pred_matchup = classifier.predict(X_matchup)"
   ]
  },
  {
   "cell_type": "code",
   "execution_count": 58,
   "metadata": {
    "_cell_guid": "7b2cfc7d-33ab-4949-ae15-42746e8c9b30",
    "_uuid": "2deb378588849d9171ca0a44e293576cd48eae45",
    "collapsed": true,
    "scrolled": false
   },
   "outputs": [],
   "source": [
    "pred = pd.DataFrame(data=prob_pred_matchup,columns=['pred'])\n",
    "result = pd.concat([Matchup,pred], axis=1)\n",
    "result = result.rename(columns={'ID':'id'})"
   ]
  },
  {
   "cell_type": "code",
   "execution_count": 59,
   "metadata": {
    "_cell_guid": "154b00bd-0392-44e7-89aa-d2e17827444f",
    "_uuid": "65a2f3c1b6823ae41c37edb80f71249a2e6f7f53"
   },
   "outputs": [
    {
     "data": {
      "text/plain": [
       "<matplotlib.axes._subplots.AxesSubplot at 0x130969ac8>"
      ]
     },
     "execution_count": 59,
     "metadata": {},
     "output_type": "execute_result"
    },
    {
     "data": {
      "image/png": "[encoded data removed]",
      "text/plain": [
       "<matplotlib.figure.Figure at 0x1309810f0>"
      ]
     },
     "metadata": {},
     "output_type": "display_data"
    }
   ],
   "source": [
    "# Check histogram\n",
    "result['pred'].hist()"
   ]
  },
  {
   "cell_type": "code",
   "execution_count": 60,
   "metadata": {
    "_cell_guid": "bddcd14f-3e50-4535-8506-da772c19bf63",
    "_uuid": "277f624644f25dd74bde9c22380b05bc1239423a",
    "collapsed": true
   },
   "outputs": [],
   "source": [
    "# Keep it in the range between 0.05 - 0.95\n",
    "result['pred'] = result['pred'].clip(0.05,0.95)"
   ]
  },
  {
   "cell_type": "code",
   "execution_count": 61,
   "metadata": {
    "_cell_guid": "ae76bc96-5160-4946-98ea-fbe49cae152d",
    "_uuid": "62192559b881a827e8f13d6c2fae15b6f455739e",
    "collapsed": true
   },
   "outputs": [],
   "source": [
    "submit = result[['id','pred']]\n",
    "submit.to_csv(\"NCAA_2018_v1.csv\", index=False)"
   ]
  },
  {
   "cell_type": "code",
   "execution_count": 63,
   "metadata": {
    "_cell_guid": "b7bd0488-9552-4209-8c28-1f8faf2b640f",
    "_uuid": "d98302003b219a5bf889bf75088e0d68ae5ad446",
    "collapsed": true
   },
   "outputs": [],
   "source": [
    "# Add Team Name instead of Team ID to check results\n",
    "result_team = result[['TeamID1','TeamID2','pred']]\n",
    "result_team1 = result_team.merge(Teams[['TeamID','TeamName']],left_on=['TeamID1'],right_on=['TeamID'],how='left')\n",
    "result_team1.rename(columns={'TeamName':'Team1'}, inplace = True)\n",
    "result_team2 = result_team1.merge(Teams[['TeamID','TeamName']],left_on=['TeamID2'],right_on=['TeamID'],how='left')\n",
    "result_team2.rename(columns={'TeamName':'Team2'}, inplace = True)\n",
    "result_team2.drop(['TeamID1','TeamID2','TeamID_x','TeamID_y'], axis = 1, inplace = True)"
   ]
  },
  {
   "cell_type": "code",
   "execution_count": 64,
   "metadata": {},
   "outputs": [
    {
     "data": {
      "text/html": [
       "<div>\n",
       "<style>\n",
       "    .dataframe thead tr:only-child th {\n",
       "        text-align: right;\n",
       "    }\n",
       "\n",
       "    .dataframe thead th {\n",
       "        text-align: left;\n",
       "    }\n",
       "\n",
       "    .dataframe tbody tr th {\n",
       "        vertical-align: top;\n",
       "    }\n",
       "</style>\n",
       "<table border=\"1\" class=\"dataframe\">\n",
       "  <thead>\n",
       "    <tr style=\"text-align: right;\">\n",
       "      <th></th>\n",
       "      <th>pred</th>\n",
       "      <th>Team1</th>\n",
       "      <th>Team2</th>\n",
       "    </tr>\n",
       "  </thead>\n",
       "  <tbody>\n",
       "    <tr>\n",
       "      <th>0</th>\n",
       "      <td>0.175383</td>\n",
       "      <td>Alabama</td>\n",
       "      <td>Arizona</td>\n",
       "    </tr>\n",
       "    <tr>\n",
       "      <th>1</th>\n",
       "      <td>0.373395</td>\n",
       "      <td>Alabama</td>\n",
       "      <td>Arizona St</td>\n",
       "    </tr>\n",
       "    <tr>\n",
       "      <th>2</th>\n",
       "      <td>0.282920</td>\n",
       "      <td>Alabama</td>\n",
       "      <td>Arkansas</td>\n",
       "    </tr>\n",
       "    <tr>\n",
       "      <th>3</th>\n",
       "      <td>0.227434</td>\n",
       "      <td>Alabama</td>\n",
       "      <td>Auburn</td>\n",
       "    </tr>\n",
       "    <tr>\n",
       "      <th>4</th>\n",
       "      <td>0.661610</td>\n",
       "      <td>Alabama</td>\n",
       "      <td>Bucknell</td>\n",
       "    </tr>\n",
       "  </tbody>\n",
       "</table>\n",
       "</div>"
      ],
      "text/plain": [
       "       pred    Team1       Team2\n",
       "0  0.175383  Alabama     Arizona\n",
       "1  0.373395  Alabama  Arizona St\n",
       "2  0.282920  Alabama    Arkansas\n",
       "3  0.227434  Alabama      Auburn\n",
       "4  0.661610  Alabama    Bucknell"
      ]
     },
     "execution_count": 64,
     "metadata": {},
     "output_type": "execute_result"
    }
   ],
   "source": [
    "result_team2.head()"
   ]
  }
 ],
 "metadata": {
  "kernelspec": {
   "display_name": "Python 3",
   "language": "python",
   "name": "python3"
  },
  "language_info": {
   "codemirror_mode": {
    "name": "ipython",
    "version": 3
   },
   "file_extension": ".py",
   "mimetype": "text/x-python",
   "name": "python",
   "nbconvert_exporter": "python",
   "pygments_lexer": "ipython3",
   "version": "3.6.1"
  }
 },
 "nbformat": 4,
 "nbformat_minor": 1
}
